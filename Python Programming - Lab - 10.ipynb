{
 "cells": [
  {
   "cell_type": "markdown",
   "metadata": {},
   "source": [
    "<a href='https://www.darshan.ac.in/'> <img src='https://www.darshan.ac.in/Content/media/DU_Logo.svg' width=\"250\" height=\"300\"/></a>\n",
    "<pre>\n",
    "<center><b><h1>Python Programming - 2301CS404</b></center>\n",
    "<center><b><h1>Shubham Rachchh | 23010101427 | 05/02/2025</b></center>\n",
    "<center><b><h1>Lab - 10</b></center>    \n",
    "<pre>"
   ]
  },
  {
   "cell_type": "markdown",
   "metadata": {},
   "source": [
    "# Exception Handling"
   ]
  },
  {
   "cell_type": "markdown",
   "metadata": {},
   "source": [
    "### 01) WAP to handle following exceptions:\n",
    "1. ZeroDivisionError\n",
    "2. ValueError\n",
    "3. TypeError\n",
    "#### Note: handle them using separate except blocks and also using single except block too."
   ]
  },
  {
   "cell_type": "code",
   "execution_count": 14,
   "metadata": {},
   "outputs": [
    {
     "name": "stdout",
     "output_type": "stream",
     "text": [
      "Error: Cannot divide by zero.\n",
      "Error: division by zero\n"
     ]
    }
   ],
   "source": [
    "try:\n",
    "    # ZeroDivisionError\n",
    "    result = 10 / 0\n",
    "\n",
    "    # ValueError\n",
    "    value = int(\"not_a_number\")\n",
    "\n",
    "    # TypeError\n",
    "    result = \"string\" + 10\n",
    "\n",
    "#handling using seperate except block\n",
    "except ZeroDivisionError:\n",
    "    print(\"Error: Cannot divide by zero.\")\n",
    "except ValueError:\n",
    "    print(\"Error: Invalid value provided.\")\n",
    "except TypeError:\n",
    "    print(\"Error: Type mismatch encountered.\")\n",
    "\n",
    "try:\n",
    "    # ZeroDivisionError\n",
    "    result = 10 / 0\n",
    "    \n",
    "    # ValueError\n",
    "    value = int(\"not_a_number\")\n",
    "    \n",
    "    # TypeError\n",
    "    result = \"string\" + 10\n",
    "\n",
    "#handling using single except block\n",
    "except (ZeroDivisionError, ValueError, TypeError) as e:\n",
    "    print(f\"Error: {str(e)}\")"
   ]
  },
  {
   "cell_type": "markdown",
   "metadata": {},
   "source": [
    "### 02)  WAP to handle following exceptions:\n",
    "1. IndexError\n",
    "2. KeyError"
   ]
  },
  {
   "cell_type": "code",
   "execution_count": 42,
   "metadata": {},
   "outputs": [
    {
     "name": "stdout",
     "output_type": "stream",
     "text": [
      "Index Error:list index out of range\n",
      "KeyError: 'd'\n"
     ]
    }
   ],
   "source": [
    "#Index Error\n",
    "try:\n",
    "    l1=[1,2,3,4,5,6]\n",
    "    print(l1[6])\n",
    "except IndexError as e:\n",
    "    print(f'Index Error:{str(e)}')\n",
    "\n",
    "#KeyError\n",
    "try:\n",
    "    d1={'a':1,'b':2,'c':3}\n",
    "    print(d1['d'])\n",
    "except KeyError as e:\n",
    "    print(f'KeyError: {str(e)}')"
   ]
  },
  {
   "cell_type": "markdown",
   "metadata": {},
   "source": [
    "### 03) WAP to handle following exceptions:\n",
    "1. FileNotFoundError\n",
    "2. ModuleNotFoundError"
   ]
  },
  {
   "cell_type": "code",
   "execution_count": 50,
   "metadata": {},
   "outputs": [
    {
     "name": "stdout",
     "output_type": "stream",
     "text": [
      "FileNotFoundError:[Errno 2] No such file or directory: 'a.txt'\n",
      "ModuleNotFoundError:No module named 'a'\n"
     ]
    }
   ],
   "source": [
    "#FileNotFoundError\n",
    "try:\n",
    "    fp=open(\"a.txt\", \"r\")\n",
    "    fp.read()\n",
    "except FileNotFoundError as e:\n",
    "    print(f'FileNotFoundError:{str(e)}')\n",
    "\n",
    "#ModuleNotFoundError\n",
    "try:\n",
    "    import a\n",
    "\n",
    "except ModuleNotFoundError as e:\n",
    "    print(f'ModuleNotFoundError:{str(e)}')"
   ]
  },
  {
   "cell_type": "markdown",
   "metadata": {},
   "source": [
    "### 04) WAP that catches all type of exceptions in a single except block."
   ]
  },
  {
   "cell_type": "code",
   "execution_count": 63,
   "metadata": {},
   "outputs": [
    {
     "name": "stdout",
     "output_type": "stream",
     "text": [
      "An error occurred: division by zero\n"
     ]
    }
   ],
   "source": [
    "try:\n",
    "    # ZeroDivisionError\n",
    "    result = 10 / 0\n",
    "\n",
    "    # IndexError\n",
    "    # my_list = [1, 2, 3]\n",
    "    # print(my_list[5])\n",
    "\n",
    "    # ValueError\n",
    "    # value = int(\"not_a_number\")\n",
    "\n",
    "    # KeyError\n",
    "    # my_dict = {'a': 1}\n",
    "    # print(my_dict['b'])\n",
    "\n",
    "    # FileNotFoundError\n",
    "    # with open(\"non_existent_file.txt\", \"r\") as file:\n",
    "    #     content = file.read()\n",
    "\n",
    "    # ModuleNotFoundError\n",
    "    # import non_existent_module\n",
    "\n",
    "except Exception as e:\n",
    "    print(f\"An error occurred: {str(e)}\")"
   ]
  },
  {
   "cell_type": "markdown",
   "metadata": {},
   "source": [
    "### 05) WAP to demonstrate else  and finally block."
   ]
  },
  {
   "cell_type": "code",
   "execution_count": 57,
   "metadata": {},
   "outputs": [
    {
     "name": "stdout",
     "output_type": "stream",
     "text": [
      "5.0\n",
      "he try block executed successfully.\n",
      "This block is always executed\n"
     ]
    }
   ],
   "source": [
    "try:\n",
    "    result = 10 / 2\n",
    "    print(result)\n",
    "\n",
    "except ZeroDivisionError as e:\n",
    "    print(f\"An error occurred: {str(e)}\")\n",
    "\n",
    "else:\n",
    "    print(\"he try block executed successfully.\")\n",
    "\n",
    "finally:\n",
    "    print(\"This block is always executed\")"
   ]
  },
  {
   "cell_type": "markdown",
   "metadata": {},
   "source": [
    "### 06) Create a short program that prompts the user for a list of grades separated by commas. \n",
    "### Split the string into individual grades and use a list comprehension to convert each string to an integer. \n",
    "### You should use a try statement to inform the user when the values they entered cannot be converted."
   ]
  },
  {
   "cell_type": "code",
   "execution_count": 75,
   "metadata": {},
   "outputs": [
    {
     "name": "stdin",
     "output_type": "stream",
     "text": [
      "Enter a list of grades separated by commas:  10,20.3.50,60\n"
     ]
    },
    {
     "name": "stdout",
     "output_type": "stream",
     "text": [
      "Error: Some of the values you entered cannot be converted to integers. Please enter valid numbers.\n"
     ]
    }
   ],
   "source": [
    "grades_input = input(\"Enter a list of grades separated by commas: \")\n",
    "\n",
    "try:\n",
    "    grades = [int(grade.strip()) for grade in grades_input.split(',')]\n",
    "    print(\"Grades:\", grades)\n",
    "\n",
    "except ValueError:\n",
    "    print(\"Error: Some of the values you entered cannot be converted to integers. Please enter valid numbers.\")"
   ]
  },
  {
   "cell_type": "markdown",
   "metadata": {},
   "source": [
    "### 07) WAP to create an udf divide(a,b) that handles ZeroDivisionError."
   ]
  },
  {
   "cell_type": "code",
   "execution_count": 65,
   "metadata": {},
   "outputs": [
    {
     "name": "stdin",
     "output_type": "stream",
     "text": [
      "Enter the a:  5\n",
      "Enter the b:  0\n"
     ]
    },
    {
     "name": "stdout",
     "output_type": "stream",
     "text": [
      "Result: Error: Cannot divide by zero.\n"
     ]
    }
   ],
   "source": [
    "def divide(a, b):\n",
    "    try:\n",
    "        result = a / b\n",
    "        \n",
    "    except ZeroDivisionError:\n",
    "        return \"Error: Cannot divide by zero.\"\n",
    "        \n",
    "    else:\n",
    "        return result\n",
    "\n",
    "a = float(input(\"Enter the a: \"))\n",
    "b = float(input(\"Enter the b: \"))\n",
    "\n",
    "result = divide(a, b)\n",
    "print(f\"Result: {result}\")"
   ]
  },
  {
   "cell_type": "markdown",
   "metadata": {},
   "source": [
    "### 08) WAP that gets an age of a person form the user and raises ValueError with error message: \"Enter Valid Age\" :\n",
    "#### If the age is less than 18. \n",
    "#### otherwise print the age."
   ]
  },
  {
   "cell_type": "code",
   "execution_count": 71,
   "metadata": {},
   "outputs": [
    {
     "name": "stdin",
     "output_type": "stream",
     "text": [
      "Enter your age:  5\n"
     ]
    },
    {
     "name": "stdout",
     "output_type": "stream",
     "text": [
      "Error: Enter Valid Age\n"
     ]
    }
   ],
   "source": [
    "def ageInvalid():\n",
    "    try:\n",
    "        age = int(input(\"Enter your age: \"))\n",
    "        if age < 18:\n",
    "            raise ValueError(\"Enter Valid Age\")\n",
    "        else:\n",
    "            print(f\"Your age is {age}\")\n",
    "    except ValueError as e:\n",
    "        print(f\"Error: {str(e)}\")\n",
    "\n",
    "ageInvalid()"
   ]
  },
  {
   "cell_type": "markdown",
   "metadata": {},
   "source": [
    "### 09) WAP to raise your custom Exception named InvalidUsernameError with the error message : \"Username must be between 5 and 15 characters long\":\n",
    "#### if the given name is having characters less than 5 or greater than 15.\n",
    "#### otherwise print the given username."
   ]
  },
  {
   "cell_type": "code",
   "execution_count": 81,
   "metadata": {},
   "outputs": [
    {
     "name": "stdin",
     "output_type": "stream",
     "text": [
      "Enter your name:: raj\n"
     ]
    },
    {
     "name": "stdout",
     "output_type": "stream",
     "text": [
      "Error:Username must be between 5 and 15 characters long\n"
     ]
    }
   ],
   "source": [
    "class InvalidUsername(Exception):\n",
    "    pass\n",
    "def custom_exception():\n",
    "    try:\n",
    "        name=input(\"Enter your name::\")\n",
    "        if(len(name)<5 or len(name)>15):\n",
    "            raise InvalidUsername(\"Username must be between 5 and 15 characters long\")\n",
    "    except InvalidUsername as e:\n",
    "        print(f\"Error:{str(e)}\")\n",
    "custom_exception()"
   ]
  },
  {
   "cell_type": "markdown",
   "metadata": {},
   "source": [
    "### 10) WAP to raise your custom Exception named NegativeNumberError with the error message : \"Cannot calculate the square root of a negative number\" :\n",
    "#### if the given number is negative.\n",
    "#### otherwise print the square root of the given number."
   ]
  },
  {
   "cell_type": "code",
   "execution_count": 79,
   "metadata": {},
   "outputs": [
    {
     "name": "stdin",
     "output_type": "stream",
     "text": [
      "Enter a number to calculate its square root:  25\n"
     ]
    },
    {
     "name": "stdout",
     "output_type": "stream",
     "text": [
      "The square root of 25.0 is: 5.0\n"
     ]
    }
   ],
   "source": [
    "import math\n",
    "class NegativeNumberError(Exception):\n",
    "    pass\n",
    "def calculate_square_root():\n",
    "    try:\n",
    "        number = float(input(\"Enter a number to calculate its square root: \"))\n",
    "        if number < 0:\n",
    "            raise NegativeNumberError(\"Cannot calculate the square root of a negative number\")\n",
    "        sqrt_result = math.sqrt(number)\n",
    "        print(f\"The square root of {number} is: {sqrt_result}\")\n",
    "    except NegativeNumberError as e:\n",
    "        print(f\"Error: {str(e)}\")\n",
    "    except ValueError:\n",
    "        print(\"Error: Please enter a valid number.\")\n",
    "calculate_square_root()"
   ]
  }
 ],
 "metadata": {
  "kernelspec": {
   "display_name": "Python 3 (ipykernel)",
   "language": "python",
   "name": "python3"
  },
  "language_info": {
   "codemirror_mode": {
    "name": "ipython",
    "version": 3
   },
   "file_extension": ".py",
   "mimetype": "text/x-python",
   "name": "python",
   "nbconvert_exporter": "python",
   "pygments_lexer": "ipython3",
   "version": "3.12.7"
  }
 },
 "nbformat": 4,
 "nbformat_minor": 4
}
